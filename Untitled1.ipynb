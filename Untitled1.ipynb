{
 "cells": [
  {
   "cell_type": "code",
   "execution_count": 10,
   "id": "954bd072-2c5a-47bf-b334-d42d1b1a96db",
   "metadata": {},
   "outputs": [
    {
     "name": "stdin",
     "output_type": "stream",
     "text": [
      " 1999\n"
     ]
    },
    {
     "name": "stdout",
     "output_type": "stream",
     "text": [
      "NO\n"
     ]
    }
   ],
   "source": [
    "n = int(input())\n",
    "if n%100 == 00:\n",
    "    print('YES')\n",
    "else:\n",
    "    print('NO')"
   ]
  },
  {
   "cell_type": "code",
   "execution_count": 12,
   "id": "5c99d387-5f1b-4602-8310-99d886e850b3",
   "metadata": {},
   "outputs": [
    {
     "name": "stdin",
     "output_type": "stream",
     "text": [
      " 3\n",
      " 2\n",
      " 4\n",
      " 5\n"
     ]
    },
    {
     "name": "stdout",
     "output_type": "stream",
     "text": [
      "YES\n"
     ]
    }
   ],
   "source": [
    "a,b,c,d = int(input()),int(input()),int(input()),int(input())\n",
    "if (a+b)%2 == (c+d)%2:\n",
    "    print('YES')\n",
    "else:\n",
    "    print('NO')"
   ]
  },
  {
   "cell_type": "code",
   "execution_count": 34,
   "id": "0103da97-1aa6-4019-b4cc-a5360f7e53d2",
   "metadata": {},
   "outputs": [
    {
     "name": "stdin",
     "output_type": "stream",
     "text": [
      " 12\n",
      " f\n"
     ]
    },
    {
     "name": "stdout",
     "output_type": "stream",
     "text": [
      "YES\n"
     ]
    }
   ],
   "source": [
    "a = int(input())\n",
    "g = input()\n",
    "if 10 <= a <= 15 and g == 'f':\n",
    "    print('YES')\n",
    "else:\n",
    "    print('NO')"
   ]
  },
  {
   "cell_type": "code",
   "execution_count": 19,
   "id": "4be79214-a628-4754-b7d6-407fbbcb6d42",
   "metadata": {},
   "outputs": [
    {
     "name": "stdout",
     "output_type": "stream",
     "text": [
      "IIIII\n"
     ]
    }
   ],
   "source": [
    "a = 'I'\n",
    "print(a * 5)"
   ]
  },
  {
   "cell_type": "code",
   "execution_count": 31,
   "id": "b85b67fc-0469-4e17-9615-5fc71d83f5a1",
   "metadata": {},
   "outputs": [
    {
     "name": "stdin",
     "output_type": "stream",
     "text": [
      " 11\n"
     ]
    },
    {
     "name": "stdout",
     "output_type": "stream",
     "text": [
      "ошибка\n"
     ]
    }
   ],
   "source": [
    "n = int(input())\n",
    "if 1 <= n <= 10:\n",
    "    if n <= 3:\n",
    "        print('I' * n)\n",
    "    elif n == 4:\n",
    "        print('IV')\n",
    "    elif n <= 8:\n",
    "        print('V' + ('I' * (n - 5)))\n",
    "    elif n <= 10:\n",
    "        print(('I' * (10 - n)) + 'X')\n",
    "else:\n",
    "    print('ошибка')"
   ]
  },
  {
   "cell_type": "code",
   "execution_count": 33,
   "id": "218c21ff-dedd-4907-9eb3-38d31046812d",
   "metadata": {},
   "outputs": [
    {
     "name": "stdin",
     "output_type": "stream",
     "text": [
      " 2\n"
     ]
    },
    {
     "name": "stdout",
     "output_type": "stream",
     "text": [
      "NO\n"
     ]
    }
   ],
   "source": [
    "n = int(input())\n",
    "if n % 2 == 0:\n",
    "    if 2 <= n <= 5:\n",
    "        print('NO')\n",
    "    elif 6 <= n <= 20:\n",
    "        print('YES')\n",
    "    elif n > 20:\n",
    "        print('NO')\n",
    "else:\n",
    "    print('YES')"
   ]
  },
  {
   "cell_type": "code",
   "execution_count": 41,
   "id": "874733e1-12b0-4af5-bf8f-537fa793c0bf",
   "metadata": {},
   "outputs": [
    {
     "name": "stdin",
     "output_type": "stream",
     "text": [
      " 2\n",
      " 2\n",
      " 3\n",
      " 4\n"
     ]
    },
    {
     "name": "stdout",
     "output_type": "stream",
     "text": [
      "NO\n"
     ]
    }
   ],
   "source": [
    "a,b,c,d = int(input()),int(input()),int(input()),int(input())\n",
    "if (a-b) == (c-d) or (a+b) == (c+d):\n",
    "    print('YES')\n",
    "else:\n",
    "    print('NO')"
   ]
  },
  {
   "cell_type": "code",
   "execution_count": 42,
   "id": "60b7393a-52ab-4dc0-b652-bcd266fe2bc1",
   "metadata": {},
   "outputs": [
    {
     "name": "stdin",
     "output_type": "stream",
     "text": [
      " 2\n",
      " 2\n",
      " 2\n",
      " 2\n"
     ]
    },
    {
     "name": "stdout",
     "output_type": "stream",
     "text": [
      "YES\n"
     ]
    }
   ],
   "source": [
    "x1,y1,x2,y2 = int(input()),int(input()),int(input()),int(input())\n",
    "if (abs(x1-x2) == 2 and abs(y1-y2) == 1) or (abs(x1-x2) == 1 and abs(y1-y2) == 2):\n",
    "    print('YES')\n",
    "else:\n",
    "    print('NO')"
   ]
  },
  {
   "cell_type": "code",
   "execution_count": null,
   "id": "4fc62217-c786-4e10-a930-0398f8070349",
   "metadata": {},
   "outputs": [],
   "source": [
    "x1,y1,x2,y2 = int(input()),int(input()),int(input()),int(input())\n",
    "if (x1 == x2 or y1 == y2) or ((x1-y1 == x2-y2) or (x1+y1 == x2+y2)):\n",
    "    print('YES')\n",
    "else:\n",
    "    print('NO')"
   ]
  },
  {
   "cell_type": "code",
   "execution_count": 45,
   "id": "31dbb7df-90a3-4679-9cb8-6213b026d9b0",
   "metadata": {},
   "outputs": [
    {
     "name": "stdin",
     "output_type": "stream",
     "text": [
      " 443\n",
      " 390\n"
     ]
    },
    {
     "name": "stdout",
     "output_type": "stream",
     "text": [
      "86385.0\n"
     ]
    }
   ],
   "source": [
    "a,b = float(input()), float(input())\n",
    "s = a * b * 0.5\n",
    "print(s)"
   ]
  },
  {
   "cell_type": "code",
   "execution_count": 46,
   "id": "0220fccd-f4c8-4823-9133-899a661568f7",
   "metadata": {},
   "outputs": [
    {
     "name": "stdin",
     "output_type": "stream",
     "text": [
      " 90.0\n",
      " 32.0\n",
      " 4.0\n"
     ]
    },
    {
     "name": "stdout",
     "output_type": "stream",
     "text": [
      "2.5\n"
     ]
    }
   ],
   "source": [
    "s,v1,v2 = float(input()),float(input()),float(input())\n",
    "t = s / (v1+v2)\n",
    "print(t)"
   ]
  },
  {
   "cell_type": "code",
   "execution_count": 52,
   "id": "1380fbda-f034-4fb8-96b8-35ef49222a9a",
   "metadata": {},
   "outputs": [
    {
     "name": "stdin",
     "output_type": "stream",
     "text": [
      " -55.6\n"
     ]
    },
    {
     "name": "stdout",
     "output_type": "stream",
     "text": [
      "-0.017985611510791366\n"
     ]
    }
   ],
   "source": [
    "n = float(input())\n",
    "if n != 0:\n",
    "    print(n**-1)\n",
    "else:\n",
    "    print('Обратного числа не существует')"
   ]
  },
  {
   "cell_type": "code",
   "execution_count": 53,
   "id": "2cd79910-d21c-4e4a-a453-d5ff3dba6bec",
   "metadata": {},
   "outputs": [
    {
     "name": "stdin",
     "output_type": "stream",
     "text": [
      " 450.55\n"
     ]
    },
    {
     "name": "stdout",
     "output_type": "stream",
     "text": [
      "232.5277777777778\n"
     ]
    }
   ],
   "source": [
    "n = float(input())\n",
    "C = 5/9*(n - 32)\n",
    "print(C)"
   ]
  },
  {
   "cell_type": "code",
   "execution_count": 61,
   "id": "301d2e2d-06f1-408a-8533-b9c7a65687d0",
   "metadata": {},
   "outputs": [
    {
     "name": "stdin",
     "output_type": "stream",
     "text": [
      " 1\n"
     ]
    },
    {
     "name": "stdout",
     "output_type": "stream",
     "text": [
      "10.5\n"
     ]
    }
   ],
   "source": [
    "n = int(input())\n",
    "if (2 - n) >= 0:\n",
    "    print(n * 10.5)\n",
    "else:\n",
    "    print(21 + (n-2) * 4) "
   ]
  },
  {
   "cell_type": "code",
   "execution_count": 71,
   "id": "7f308ed5-f399-4cab-b5c8-dfaf81d1a8fc",
   "metadata": {},
   "outputs": [
    {
     "name": "stdin",
     "output_type": "stream",
     "text": [
      " 45.125\n"
     ]
    },
    {
     "name": "stdout",
     "output_type": "stream",
     "text": [
      "1\n"
     ]
    }
   ],
   "source": [
    "n = float(input())\n",
    "s = n * 10\n",
    "print(int(s%10))"
   ]
  },
  {
   "cell_type": "code",
   "execution_count": 76,
   "id": "80b7e688-85bb-4fb1-9122-88f184b87e33",
   "metadata": {},
   "outputs": [
    {
     "name": "stdin",
     "output_type": "stream",
     "text": [
      " 145415.415415\n"
     ]
    },
    {
     "name": "stdout",
     "output_type": "stream",
     "text": [
      "0.4154149999958463\n"
     ]
    }
   ],
   "source": [
    "n = float(input())\n",
    "s = n % 1\n",
    "print(s)"
   ]
  },
  {
   "cell_type": "code",
   "execution_count": null,
   "id": "14c8ac1d-ca90-4a59-85f4-ed1a558064fc",
   "metadata": {},
   "outputs": [],
   "source": [
    "a,b,c,d,e = int(input()),int(input()),int(input()),int(input()),int(input())\n"
   ]
  },
  {
   "cell_type": "code",
   "execution_count": 84,
   "id": "d9348550-cbe6-463b-9ce5-4ca538d347e2",
   "metadata": {},
   "outputs": [
    {
     "name": "stdin",
     "output_type": "stream",
     "text": [
      " 1\n",
      " 2\n",
      " 3\n",
      " 4\n",
      " 5\n"
     ]
    },
    {
     "name": "stdout",
     "output_type": "stream",
     "text": [
      "[1, 2, 3, 4, 5]\n",
      "Наименьшее число = 1\n",
      "Наибольшее число = 5\n"
     ]
    }
   ],
   "source": [
    "list = []\n",
    "i = 0\n",
    "while i < 3:\n",
    "    list.append(int(input()))\n",
    "    i += 1\n",
    "print(\"Наименьшее число =\", min(list))\n",
    "print(\"Наибольшее число =\", max(list))"
   ]
  },
  {
   "cell_type": "code",
   "execution_count": 99,
   "id": "dbc1c30e-a579-41fe-b7d5-23667e005e25",
   "metadata": {},
   "outputs": [
    {
     "name": "stdin",
     "output_type": "stream",
     "text": [
      " 945\n",
      " 5\n",
      " 45\n"
     ]
    },
    {
     "name": "stdout",
     "output_type": "stream",
     "text": [
      "945\n",
      "45\n",
      "5\n"
     ]
    }
   ],
   "source": [
    "list = []\n",
    "i = 0\n",
    "while i < 3:\n",
    "    list.append(int(input()))\n",
    "    i += 1\n",
    "list.sort()\n",
    "list.reverse()\n",
    "for i in list:\n",
    "    print(i)"
   ]
  },
  {
   "cell_type": "code",
   "execution_count": 7,
   "id": "317fd9b9-8955-4df9-9586-c3290ced1efc",
   "metadata": {},
   "outputs": [
    {
     "name": "stdin",
     "output_type": "stream",
     "text": [
      " 945\n"
     ]
    },
    {
     "name": "stdout",
     "output_type": "stream",
     "text": [
      "Число интересное\n"
     ]
    }
   ],
   "source": [
    "n = int(input())\n",
    "list = []\n",
    "i = 0\n",
    "while i < 3:\n",
    "    list.append(n%10)\n",
    "    n = int(n / 10)\n",
    "    i += 1\n",
    "a = max(list)\n",
    "b = min(list)\n",
    "list.remove(a)\n",
    "list.remove(b)\n",
    "if a-b == list[0]:\n",
    "    print('Число интересное')\n",
    "else:\n",
    "    print('Число неинтересное')"
   ]
  },
  {
   "cell_type": "code",
   "execution_count": 11,
   "id": "666d9752-eb45-4e03-9041-4dc4d3999f6a",
   "metadata": {},
   "outputs": [
    {
     "name": "stdin",
     "output_type": "stream",
     "text": [
      " 5.4\n",
      " 33\n",
      " -454\n",
      " -45.6\n",
      " 5\n"
     ]
    },
    {
     "name": "stdout",
     "output_type": "stream",
     "text": [
      "543.0\n"
     ]
    }
   ],
   "source": [
    "list = []\n",
    "i = 0\n",
    "s = 0\n",
    "while i < 5:\n",
    "    list.append(float(input()))\n",
    "    i += 1\n",
    "for i in list:\n",
    "    s += abs(i)\n",
    "print(s)"
   ]
  },
  {
   "cell_type": "code",
   "execution_count": null,
   "id": "523901a4-c989-4911-ba2b-ed58d9a55507",
   "metadata": {},
   "outputs": [],
   "source": [
    "p1,p2,q1,q2 = int(input()),int(input()),int(input()),int(input())\n",
    "s = abs(p1-q1) + abs(p2-q2)\n",
    "print(s)"
   ]
  },
  {
   "cell_type": "code",
   "execution_count": 12,
   "id": "91e3972d-ee3e-492d-82d1-ae9e7160d7df",
   "metadata": {},
   "outputs": [
    {
     "name": "stdin",
     "output_type": "stream",
     "text": [
      " fdfd\n",
      " fds\n"
     ]
    },
    {
     "name": "stdout",
     "output_type": "stream",
     "text": [
      "Hello fdfd fds! You just delved into Python\n"
     ]
    }
   ],
   "source": [
    "f,l = input(),input()\n",
    "print('Hello ' + f + ' ' + l + '!' + ' You just delved into Python')"
   ]
  },
  {
   "cell_type": "code",
   "execution_count": null,
   "id": "94295bfd-ee75-464b-9efe-1cf7bb0fe79e",
   "metadata": {},
   "outputs": [],
   "source": [
    "string = input()\n",
    "print('Футбольная команда ' + string + ' имеет длину ' + str(len(string)) + ' символов')"
   ]
  },
  {
   "cell_type": "code",
   "execution_count": null,
   "id": "987a927a",
   "metadata": {},
   "outputs": [
    {
     "name": "stdin",
     "output_type": "stream",
     "text": [
      " dasdas\n",
      " dss\n",
      " dsadasdasdas\n"
     ]
    },
    {
     "name": "stdout",
     "output_type": "stream",
     "text": [
      "3\n",
      "12\n"
     ]
    }
   ],
   "source": [
    "a,b,c = input(),input(),input()\n",
    "print(min(len(a),len(b),len(c)))\n",
    "print(max(len(a),len(b),len(c)))"
   ]
  },
  {
   "cell_type": "code",
   "execution_count": 23,
   "id": "536d06b3-5a14-4190-885b-b7093a696ea2",
   "metadata": {},
   "outputs": [
    {
     "name": "stdin",
     "output_type": "stream",
     "text": [
      " das\n",
      " dsaasd\n",
      " dsadasadad\n"
     ]
    },
    {
     "name": "stdout",
     "output_type": "stream",
     "text": [
      "['das', 'dsaasd', 'dsadasadad']\n"
     ]
    }
   ],
   "source": [
    "list = []\n",
    "i = 0\n",
    "while i < 3:\n",
    "    list.append(input())\n",
    "    i += 1\n",
    "list.sort(key = len)\n",
    "print(list[0])\n",
    "print(list[-1])"
   ]
  },
  {
   "cell_type": "code",
   "execution_count": 32,
   "id": "5f215442-d0f4-4e85-9b8a-35382eda6578",
   "metadata": {},
   "outputs": [
    {
     "name": "stdin",
     "output_type": "stream",
     "text": [
      " ds\n",
      " dsdd\n",
      " dsd\n"
     ]
    },
    {
     "name": "stdout",
     "output_type": "stream",
     "text": [
      "YES\n"
     ]
    }
   ],
   "source": [
    "list = []\n",
    "j = 0\n",
    "while j < 3:\n",
    "    list.append(input())\n",
    "    j += 1\n",
    "list.sort(key = len)\n",
    "r = abs(len(list[0]) - len(list[1]))\n",
    "for i in range(len(list)-1):\n",
    "    if abs(len(list[i]) - len(list[i+1])) != r:\n",
    "        r = 0\n",
    "        break\n",
    "if r !=0:\n",
    "    print('YES')\n",
    "else:\n",
    "    print('NO')"
   ]
  },
  {
   "cell_type": "code",
   "execution_count": null,
   "id": "8365f776-b80e-42b2-83eb-76096d2d1a90",
   "metadata": {},
   "outputs": [],
   "source": [
    "s = input()\n",
    "if 'синий' in s:\n",
    "    print('YES')\n",
    "else:\n",
    "    print('NO')"
   ]
  },
  {
   "cell_type": "code",
   "execution_count": 39,
   "id": "9c87e648-e483-4ee2-9184-eae1eea412dd",
   "metadata": {},
   "outputs": [
    {
     "name": "stdin",
     "output_type": "stream",
     "text": [
      " Какой сегодня день недели?\n"
     ]
    },
    {
     "name": "stdout",
     "output_type": "stream",
     "text": [
      "NO\n"
     ]
    }
   ],
   "source": [
    "s = input()\n",
    "if 'суббота' in s or 'воскресенье' in s:\n",
    "    print('YES')\n",
    "else:\n",
    "    print('NO')"
   ]
  },
  {
   "cell_type": "code",
   "execution_count": 38,
   "id": "8925ba60-450d-45a2-a648-5ddf2cf19003",
   "metadata": {},
   "outputs": [
    {
     "name": "stdin",
     "output_type": "stream",
     "text": [
      " saasda\n"
     ]
    },
    {
     "name": "stdout",
     "output_type": "stream",
     "text": [
      "NO\n"
     ]
    }
   ],
   "source": [
    "s = input()\n",
    "if '@' in s and '.' in s:\n",
    "    print('YES')\n",
    "else:\n",
    "    print('NO')"
   ]
  },
  {
   "cell_type": "code",
   "execution_count": null,
   "id": "c28a63fa-e70e-4e59-bd03-4d9236fc36d4",
   "metadata": {},
   "outputs": [],
   "source": []
  }
 ],
 "metadata": {
  "kernelspec": {
   "display_name": "Python 3 (ipykernel)",
   "language": "python",
   "name": "python3"
  },
  "language_info": {
   "codemirror_mode": {
    "name": "ipython",
    "version": 3
   },
   "file_extension": ".py",
   "mimetype": "text/x-python",
   "name": "python",
   "nbconvert_exporter": "python",
   "pygments_lexer": "ipython3",
   "version": "3.10.8"
  }
 },
 "nbformat": 4,
 "nbformat_minor": 5
}
