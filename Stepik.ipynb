{
 "cells": [
  {
   "cell_type": "markdown",
   "id": "796c3fb9-e68b-4c42-8a0d-e14dcd62e748",
   "metadata": {},
   "source": [
    "Евклидово расстояние"
   ]
  },
  {
   "cell_type": "code",
   "execution_count": 6,
   "id": "f2e2c1b4-65c6-47a0-9452-1cf9dc312774",
   "metadata": {},
   "outputs": [
    {
     "name": "stdin",
     "output_type": "stream",
     "text": [
      " 5.5\n",
      " 2.4\n",
      " 4.9\n",
      " 6.3\n"
     ]
    },
    {
     "name": "stdout",
     "output_type": "stream",
     "text": [
      "3.9458839313897713\n"
     ]
    }
   ],
   "source": [
    "from math import *\n",
    "x1,y1,x2,y2 = float(input()),float(input()),float(input()),float(input())\n",
    "p = ((x1-x2)**2 + (y1-y2)**2)**0.5\n",
    "print(p)"
   ]
  },
  {
   "cell_type": "code",
   "execution_count": 16,
   "id": "92632525-6a67-4681-b901-a7c18a084c7d",
   "metadata": {},
   "outputs": [
    {
     "name": "stdin",
     "output_type": "stream",
     "text": [
      " 554.6\n"
     ]
    },
    {
     "name": "stdout",
     "output_type": "stream",
     "text": [
      "966294.7126386268 \n",
      " 3484.654571361799\n"
     ]
    }
   ],
   "source": [
    "from math import *\n",
    "R = float(input())\n",
    "S = pi*R**2\n",
    "C = 2*pi*R\n",
    "print(S,'\\n',C)"
   ]
  },
  {
   "cell_type": "code",
   "execution_count": 17,
   "id": "c11dee32-09ee-4491-8e7b-0793250b99d8",
   "metadata": {},
   "outputs": [
    {
     "name": "stdin",
     "output_type": "stream",
     "text": [
      " 1.0\n",
      " 2.0\n"
     ]
    },
    {
     "name": "stdout",
     "output_type": "stream",
     "text": [
      "1.5 \n",
      " 1.4142135623730951 \n",
      " 1.3333333333333333 \n",
      " 1.5811388300841898\n"
     ]
    }
   ],
   "source": [
    "from math import *\n",
    "a,b = float(input()),float(input())\n",
    "arf = (a+b)/2\n",
    "gem = (a*b)**0.5\n",
    "garm = (2*a*b)/(a+b)\n",
    "kvadrt = ((a**2 + b**2)/2)**0.5\n",
    "print(arf,'\\n',gem,'\\n',garm,'\\n',kvadrt)"
   ]
  },
  {
   "cell_type": "code",
   "execution_count": 2,
   "id": "fe692309-b2fc-43ec-b5d1-fd0b39f4385d",
   "metadata": {},
   "outputs": [
    {
     "name": "stdin",
     "output_type": "stream",
     "text": [
      " 30\n"
     ]
    },
    {
     "name": "stdout",
     "output_type": "stream",
     "text": [
      "1.6993587371177719\n"
     ]
    }
   ],
   "source": [
    "from math import *\n",
    "def x(n):\n",
    "    return radians(n)\n",
    "\n",
    "a = float(input())\n",
    "X = sin(x(a)) + cos(x(a)) + tan(x(a))**2\n",
    "print(X)"
   ]
  },
  {
   "cell_type": "code",
   "execution_count": 3,
   "id": "3e2b6ccf-985c-408b-a56b-ca1e0ef95d91",
   "metadata": {},
   "outputs": [
    {
     "name": "stdin",
     "output_type": "stream",
     "text": [
      " 5.5\n"
     ]
    },
    {
     "name": "stdout",
     "output_type": "stream",
     "text": [
      "11\n"
     ]
    }
   ],
   "source": [
    "from math import *\n",
    "x = float(input())\n",
    "print(ceil(x) + floor(x))"
   ]
  },
  {
   "cell_type": "code",
   "execution_count": 9,
   "id": "23857245-49de-4f68-b113-66c5d4267a68",
   "metadata": {},
   "outputs": [
    {
     "name": "stdin",
     "output_type": "stream",
     "text": [
      " 1\n",
      " -7.5\n",
      " 3\n"
     ]
    },
    {
     "name": "stdout",
     "output_type": "stream",
     "text": [
      "0.4239663260874824 \n",
      " 7.076033673912518\n"
     ]
    }
   ],
   "source": [
    "from math import *\n",
    "a,b,c = float(input()),float(input()),float(input())\n",
    "D = b**2 - 4*a*c\n",
    "if D > 0:\n",
    "    x1 = (-b + D**0.5)/(2*a)\n",
    "    x2 = (-b - D**0.5)/(2*a)\n",
    "    print(min(x1,x2),'\\n',max(x1,x2))\n",
    "elif D == 0:\n",
    "    x1 = -b/(2*a)\n",
    "    print(x1)\n",
    "else:\n",
    "    print('Нет корней')"
   ]
  },
  {
   "cell_type": "code",
   "execution_count": 10,
   "id": "a95e50c4-be12-4bb1-910b-86cd29624d43",
   "metadata": {},
   "outputs": [
    {
     "name": "stdin",
     "output_type": "stream",
     "text": [
      " 3\n",
      " 2.0\n"
     ]
    },
    {
     "name": "stdout",
     "output_type": "stream",
     "text": [
      "1.7320508075688779\n"
     ]
    }
   ],
   "source": [
    "from math import *\n",
    "n,a = int(input()),float(input())\n",
    "S = (n * a**2)/(4*tan(pi/n))\n",
    "print(S)"
   ]
  },
  {
   "cell_type": "code",
   "execution_count": null,
   "id": "91def683-28f8-4668-931a-aef81d08de16",
   "metadata": {},
   "outputs": [],
   "source": [
    "s,n = str(input()),int(input())\n",
    "for i in range(n):\n",
    "    print(s)"
   ]
  },
  {
   "cell_type": "code",
   "execution_count": 11,
   "id": "34747654-6e11-47cd-9691-9757bcd1cff6",
   "metadata": {},
   "outputs": [
    {
     "name": "stdout",
     "output_type": "stream",
     "text": [
      "AAA\n",
      "AAA\n",
      "AAA\n",
      "AAA\n",
      "AAA\n",
      "AAA\n",
      "BBBB\n",
      "BBBB\n",
      "BBBB\n",
      "BBBB\n",
      "BBBB\n",
      "E\n",
      "TTTTT\n",
      "TTTTT\n",
      "TTTTT\n",
      "TTTTT\n",
      "TTTTT\n",
      "TTTTT\n",
      "TTTTT\n",
      "TTTTT\n",
      "TTTTT\n",
      "G\n"
     ]
    }
   ],
   "source": [
    "for i in range(6):\n",
    "    print('A'*3)\n",
    "for i in range(5):\n",
    "    print('B'*4)\n",
    "print('E')\n",
    "for i in range(9):\n",
    "    print('T'*5)\n",
    "print('G')"
   ]
  },
  {
   "cell_type": "code",
   "execution_count": 13,
   "id": "923ae2eb-cccf-4d8f-8967-803e343cc3ce",
   "metadata": {},
   "outputs": [
    {
     "name": "stdin",
     "output_type": "stream",
     "text": [
      " 5\n"
     ]
    },
    {
     "name": "stdout",
     "output_type": "stream",
     "text": [
      "*******************\n",
      "*******************\n",
      "*******************\n",
      "*******************\n",
      "*******************\n"
     ]
    }
   ],
   "source": [
    "n = int(input())\n",
    "for i in range(n):\n",
    "    print('*'*19)"
   ]
  },
  {
   "cell_type": "code",
   "execution_count": 14,
   "id": "84e74090-ae9c-40b5-ba16-d1adcca89e07",
   "metadata": {},
   "outputs": [
    {
     "name": "stdin",
     "output_type": "stream",
     "text": [
      " 45ds\n"
     ]
    },
    {
     "name": "stdout",
     "output_type": "stream",
     "text": [
      "0 45ds\n",
      "1 45ds\n",
      "2 45ds\n",
      "3 45ds\n",
      "4 45ds\n",
      "5 45ds\n",
      "6 45ds\n",
      "7 45ds\n",
      "8 45ds\n",
      "9 45ds\n"
     ]
    }
   ],
   "source": [
    "s = str(input())\n",
    "for i in range(10):\n",
    "    print(i, s)"
   ]
  },
  {
   "cell_type": "code",
   "execution_count": 16,
   "id": "453cdf40-6d27-49d2-bdfc-d43713424d72",
   "metadata": {},
   "outputs": [
    {
     "name": "stdin",
     "output_type": "stream",
     "text": [
      " 9\n"
     ]
    },
    {
     "name": "stdout",
     "output_type": "stream",
     "text": [
      "Квадрат числа 0 равен 0\n",
      "Квадрат числа 1 равен 1\n",
      "Квадрат числа 2 равен 4\n",
      "Квадрат числа 3 равен 9\n",
      "Квадрат числа 4 равен 16\n",
      "Квадрат числа 5 равен 25\n",
      "Квадрат числа 6 равен 36\n",
      "Квадрат числа 7 равен 49\n",
      "Квадрат числа 8 равен 64\n",
      "Квадрат числа 9 равен 81\n"
     ]
    }
   ],
   "source": [
    "n = int(input())\n",
    "for i in range(n+1):\n",
    "    print('Квадрат числа ' + str(i) + ' равен ' + str(i**2))"
   ]
  },
  {
   "cell_type": "code",
   "execution_count": 19,
   "id": "ee4c11c0-717e-4aaf-b480-45162df6da2d",
   "metadata": {
    "collapsed": true,
    "jupyter": {
     "outputs_hidden": true
    },
    "tags": []
   },
   "outputs": [
    {
     "name": "stdin",
     "output_type": "stream",
     "text": [
      " 9\n"
     ]
    },
    {
     "name": "stdout",
     "output_type": "stream",
     "text": [
      "*********\n",
      "********\n",
      "*******\n",
      "******\n",
      "*****\n",
      "****\n",
      "***\n",
      "**\n",
      "*\n"
     ]
    }
   ],
   "source": [
    "n = int(input())\n",
    "for i in range(n):\n",
    "    print((n-i) * '*')"
   ]
  },
  {
   "cell_type": "code",
   "execution_count": 67,
   "id": "3f8e5a1e-0bbb-49cc-a009-3b69d989d70b",
   "metadata": {
    "collapsed": true,
    "jupyter": {
     "outputs_hidden": true
    },
    "tags": []
   },
   "outputs": [
    {
     "name": "stdin",
     "output_type": "stream",
     "text": [
      " 120\n",
      " 25\n",
      " 4\n"
     ]
    },
    {
     "name": "stdout",
     "output_type": "stream",
     "text": [
      "1 120\n",
      "2 150.0\n",
      "3 187.5\n",
      "4 234.375\n"
     ]
    }
   ],
   "source": [
    "m,p,n = int(input()),int(input()),int(input())\n",
    "for i in range(n):\n",
    "    print((i+1), m)\n",
    "    m += m * p/100"
   ]
  },
  {
   "cell_type": "code",
   "execution_count": 5,
   "id": "cc707c40-c49b-4456-a61f-89c7e60fb8bf",
   "metadata": {},
   "outputs": [
    {
     "name": "stdin",
     "output_type": "stream",
     "text": [
      " 100\n",
      " 100\n"
     ]
    },
    {
     "name": "stdout",
     "output_type": "stream",
     "text": [
      "100\n"
     ]
    }
   ],
   "source": [
    "m,n = int(input()),int(input())\n",
    "if m < n:\n",
    "    for i in range(m, n+1):\n",
    "        print(i)\n",
    "else:\n",
    "    for i in range(m, n-1, -1):\n",
    "        print(i)"
   ]
  },
  {
   "cell_type": "code",
   "execution_count": 12,
   "id": "a87bced2-92bc-4dc6-9318-8623a862e578",
   "metadata": {},
   "outputs": [
    {
     "name": "stdin",
     "output_type": "stream",
     "text": [
      " 77\n",
      " 61\n"
     ]
    },
    {
     "name": "stdout",
     "output_type": "stream",
     "text": [
      "77\n",
      "75\n",
      "73\n",
      "71\n",
      "69\n",
      "67\n",
      "65\n",
      "63\n",
      "61\n"
     ]
    }
   ],
   "source": [
    "m,n = int(input()),int(input())\n",
    "if m % 2 == 0:\n",
    "    m -= 1\n",
    "for i in range(m, n-1,-2):\n",
    "    print(i)"
   ]
  },
  {
   "cell_type": "code",
   "execution_count": 27,
   "id": "93893470-d76c-49c6-a9af-7d871b9cb313",
   "metadata": {},
   "outputs": [
    {
     "name": "stdin",
     "output_type": "stream",
     "text": [
      " 19\n",
      " 19\n"
     ]
    },
    {
     "name": "stdout",
     "output_type": "stream",
     "text": [
      "19\n"
     ]
    }
   ],
   "source": [
    "m,n = int(input()),int(input())\n",
    "for i in range(m,n+1):\n",
    "    if i % 17 == 0 or i%10 == 9 or (i % 3 == 0 and i % 5 == 0):\n",
    "        print(i)"
   ]
  },
  {
   "cell_type": "code",
   "execution_count": 33,
   "id": "1ccf8c7e-2c29-4331-9378-aef3153f6f5a",
   "metadata": {},
   "outputs": [
    {
     "name": "stdin",
     "output_type": "stream",
     "text": [
      " 4\n"
     ]
    },
    {
     "name": "stdout",
     "output_type": "stream",
     "text": [
      "4 x 1 = 4\n",
      "4 x 2 = 8\n",
      "4 x 3 = 12\n",
      "4 x 4 = 16\n",
      "4 x 5 = 20\n",
      "4 x 6 = 24\n",
      "4 x 7 = 28\n",
      "4 x 8 = 32\n",
      "4 x 9 = 36\n",
      "4 x 10 = 40\n"
     ]
    }
   ],
   "source": [
    "n = int(input())\n",
    "for i in range(10):\n",
    "    print(n,'x',i+1,'=',n*(i+1))"
   ]
  },
  {
   "cell_type": "code",
   "execution_count": 37,
   "id": "a1395db6-fd48-421d-ade4-0479648e61fe",
   "metadata": {},
   "outputs": [
    {
     "name": "stdin",
     "output_type": "stream",
     "text": [
      " 1\n",
      " 10\n"
     ]
    },
    {
     "name": "stdout",
     "output_type": "stream",
     "text": [
      "2\n"
     ]
    }
   ],
   "source": [
    "a,b = int(input()),int(input())\n",
    "k = 0\n",
    "for i in range(a,b+1):\n",
    "    if i**3 % 10 == 4 or i**3 % 10 == 9:\n",
    "        k += 1\n",
    "print(k)"
   ]
  },
  {
   "cell_type": "code",
   "execution_count": 38,
   "id": "e4ebab63-1fe6-44ee-bf97-291a6d9ef630",
   "metadata": {},
   "outputs": [
    {
     "name": "stdin",
     "output_type": "stream",
     "text": [
      " 4\n",
      " 1\n",
      " 2\n",
      " 3\n",
      " 4\n"
     ]
    }
   ],
   "source": [
    "n = int(input())\n",
    "sum = 0\n",
    "for i in range(n):\n",
    "    sum += int(input())\n",
    "print(sum)"
   ]
  },
  {
   "cell_type": "code",
   "execution_count": 41,
   "id": "05890a2a-2deb-49c9-a3ea-b9302129e23d",
   "metadata": {},
   "outputs": [
    {
     "name": "stdin",
     "output_type": "stream",
     "text": [
      " 10\n"
     ]
    },
    {
     "name": "stdout",
     "output_type": "stream",
     "text": [
      "0.6263831609742079\n"
     ]
    }
   ],
   "source": [
    "from math import *\n",
    "n = int(input())\n",
    "sum = 1\n",
    "for i in range(2,n+1):\n",
    "    sum += 1/i\n",
    "sum -= log(n)\n",
    "print(sum)"
   ]
  },
  {
   "cell_type": "code",
   "execution_count": 49,
   "id": "d8aaae74-fecf-4739-81b9-671e0e5d4749",
   "metadata": {},
   "outputs": [
    {
     "name": "stdin",
     "output_type": "stream",
     "text": [
      " 1992\n"
     ]
    },
    {
     "name": "stdout",
     "output_type": "stream",
     "text": [
      "198005\n"
     ]
    }
   ],
   "source": [
    "n = int(input())\n",
    "sum = 0\n",
    "for i in range(1,n+1):\n",
    "    if (i**2 % 10 == 2) or (i ** 2 % 10 == 5) or (i ** 2 % 10 == 8):\n",
    "        sum += i\n",
    "print(sum)"
   ]
  },
  {
   "cell_type": "code",
   "execution_count": 63,
   "id": "911ab597-1654-4e30-9127-3acc590770b9",
   "metadata": {
    "collapsed": true,
    "jupyter": {
     "outputs_hidden": true
    },
    "tags": []
   },
   "outputs": [
    {
     "name": "stdin",
     "output_type": "stream",
     "text": [
      " 1500\n"
     ]
    },
    {
     "name": "stdout",
     "output_type": "stream",
     "text": [
      "48119977967797748601669900935813797818348080406726138081308559411630575189001095591292230585206733851868464009619343585194052091124618166270271481881393331431627962810299844149333789044689395510487167879769325303699470467829234399263326545652860748605075746366928323606645492277541120083438086727369377887676000211405318480244354207419604864176969950581435222198851194568984095705945549589054568321792338919149442985919957734792959402499096845643020401869381175603964424333222114125974374817804242633309769804293952870034619354125014210045647664063240162007560108665290568646128342557147350985358724154623253371867470765120422073867963935775258692109753041762094343569050497470353531764481503174750911858230906998361066084787758316110585736013365377431860738572261325738233656835271947352695180865573043834027955539012765489372645042504406597752357481931532872356635411224578334040522294746402829585458478708778346379431862368824819009177091444034885941394319343910223168655869761799669075059527608502465593181398566214786801211651657222004123456498258513120359126022843038535083709796101565934859483203933443308601475813108363074118562404412420191947127585482919172173045961122122701434297870691932154082986945954748251105782181586397275820342101470457300633590139512919549474113721711616912519714191760699935509810254849967087635936181176363954224186031346682928878492872249485456690138831610135377916327940503701400290125509132140782614640495733518048670983360134097860364762638658894873174499870133559364805443430831459505987809215393353387232078177562975021460595422358573128085417162336030235138652735438053034531962620811566019896879275257163988352090874930346115518331202927263708446729394381879888839549731876978682249320628599631628662375508826209854754631984276392670919216923002770077734756077549035942976209159416211581439461484509549370357486770276807687544580164314647595031368948490282897173328013518435758700056425922638411889496527975846052717958044813737086806600171993703579485864029383208714528950303253881360812631162134750100307772634337467012820470715650810714689905121432259528505483053930402217400686061612471659630192434864094539828085677465383026128353771071152304197549798870706139893609140045659756285435787771636258253666592102151236142132724425850991205720020493660580896600891888594659612927724357866265934517615841298789154462249169688860092640284756382431746120357767933119589280468687348061788072986362788582227019465263474828590646048451070702923434422714349595857654843699542321849363652767771978314681013589442955219879702008068934096624650625769705233333462826013860098698155180331145365652453482955497979915586438474687345677874451117702250441711504844638414485210092261397271970571029038581873069951161330495772310508760528249706514238384269808639507080418298318311361373628512041716415196868334254119137139589149597210032153545941114666530498906529240798164804007394775927836045668573993316428972539932745757171947402454257142633700815922407278403640595355142075599446056337986717212316223257763412164180899532722039383244462511410346646148863397237096276822656157561194665545757017429842404840309758925618650507921043007241637877939825811059339138925526124514467627126548126795078784022672860886251974581362141782786407402896309678008909663263987018538107050886193489012497405005820727271232733728141775132722013860591169620692789290456794698409808557447756701311883266010859016027592252397754508251628808293537776536569608111330584797160694847898923196743970244451842702266403326317319092117151143971679500042590269255093130215984418097418435474300467281949798227102529873732749027992079700287275900856241172902880909546551703263202853584498085358955307673717177961902081098618729046348849060249600000000000000000000000000000000000000000000000000000000000000000000000000000000000000000000000000000000000000000000000000000000000000000000000000000000000000000000000000000000000000000000000000000000000000000000000000000000000000000000000000000000000000000000000000000000000000000000000000000000000000000000000000000000000000000000000000000000000000000000000000000000000000\n"
     ]
    }
   ],
   "source": [
    "n = int(input())\n",
    "fac = 1\n",
    "for i in range(1,n+1):\n",
    "    fac *= i\n",
    "print(fac)"
   ]
  },
  {
   "cell_type": "code",
   "execution_count": 64,
   "id": "f7266ea4-476c-4310-be8a-0da93c78e020",
   "metadata": {},
   "outputs": [
    {
     "name": "stdin",
     "output_type": "stream",
     "text": [
      " 8\n",
      " 0\n",
      " 1\n",
      " 2\n",
      " 1\n",
      " 0\n",
      " 0\n",
      " 5\n",
      " 4\n",
      " 10\n"
     ]
    },
    {
     "name": "stdout",
     "output_type": "stream",
     "text": [
      "3200\n"
     ]
    }
   ],
   "source": [
    "fac = 1\n",
    "for i in range(10):\n",
    "    n = int(input())\n",
    "    if n != 0:\n",
    "        fac *= n\n",
    "print(fac)"
   ]
  },
  {
   "cell_type": "code",
   "execution_count": 75,
   "id": "cda3eebf-3a2f-4995-9dad-9f5242468f31",
   "metadata": {},
   "outputs": [
    {
     "name": "stdin",
     "output_type": "stream",
     "text": [
      " 4545\n"
     ]
    },
    {
     "name": "stdout",
     "output_type": "stream",
     "text": [
      "Количество делителей 12 \n",
      " Сумма делителей 7956\n"
     ]
    }
   ],
   "source": [
    "n = int(input())\n",
    "s = 0\n",
    "k = 0\n",
    "for i in range(1, n+1):\n",
    "    if n%i==0:\n",
    "        s += i\n",
    "        k += 1\n",
    "print('Количество делителей',k,'\\n','Сумма делителей',s)"
   ]
  },
  {
   "cell_type": "code",
   "execution_count": 113,
   "id": "26cad935-ed04-4ad0-a427-7a58afdc1acd",
   "metadata": {},
   "outputs": [
    {
     "name": "stdin",
     "output_type": "stream",
     "text": [
      " 5\n"
     ]
    },
    {
     "name": "stdout",
     "output_type": "stream",
     "text": [
      "3\n"
     ]
    }
   ],
   "source": [
    "n = int(input())\n",
    "s = 0\n",
    "for i in range(1, n+1):\n",
    "    s += (-1)**(i+1)*i\n",
    "print(s)"
   ]
  },
  {
   "cell_type": "code",
   "execution_count": 126,
   "id": "6b2bf07b-d41e-4e43-af92-704acd8124a9",
   "metadata": {},
   "outputs": [
    {
     "name": "stdin",
     "output_type": "stream",
     "text": [
      " 4\n",
      " 213\n",
      " 21\n",
      " 211\n",
      " 23\n"
     ]
    },
    {
     "name": "stdout",
     "output_type": "stream",
     "text": [
      "213 \n",
      " 211\n"
     ]
    }
   ],
   "source": [
    "arr = []\n",
    "n = int(input())\n",
    "m1,m2 = 0,0\n",
    "for i in range(1,n+1):\n",
    "    arr.append(int(input()))\n",
    "arr.sort()\n",
    "m1 = max(arr)\n",
    "arr.pop(arr.index(m1))\n",
    "m2 = max(arr)\n",
    "print(m1)\n",
    "print(m2)"
   ]
  },
  {
   "cell_type": "code",
   "execution_count": 128,
   "id": "6653eaa7-3c30-4c30-9a57-50a1e1a507ed",
   "metadata": {
    "collapsed": true,
    "jupyter": {
     "outputs_hidden": true
    },
    "tags": []
   },
   "outputs": [
    {
     "name": "stdin",
     "output_type": "stream",
     "text": [
      " 3\n",
      " 121\n",
      " 323\n",
      " 421\n",
      " 32\n",
      " 321\n",
      " 321\n",
      " 321\n",
      " 321\n",
      " 44\n"
     ]
    },
    {
     "name": "stdout",
     "output_type": "stream",
     "text": [
      "3\n",
      "121\n",
      "323\n",
      "421\n",
      "32\n",
      "321\n",
      "321\n",
      "321\n",
      "321\n",
      "44\n"
     ]
    }
   ],
   "source": [
    "arr = []\n",
    "flag = True\n",
    "for i in range(10):\n",
    "    arr.append(int(input()))\n",
    "for i in arr:\n",
    "    if i % 2 != 0:\n",
    "        print('NO')\n",
    "        flag = False\n",
    "        break\n",
    "if flag == True:\n",
    "    print('YES')"
   ]
  },
  {
   "cell_type": "code",
   "execution_count": 142,
   "id": "0530e6b9-fe96-48fa-92d8-8e251797ca4c",
   "metadata": {},
   "outputs": [
    {
     "name": "stdin",
     "output_type": "stream",
     "text": [
      " 5\n"
     ]
    },
    {
     "name": "stdout",
     "output_type": "stream",
     "text": [
      "0\n",
      "3\n",
      "6\n",
      "9\n",
      "12\n"
     ]
    }
   ],
   "source": [
    "n = int(input())\n",
    "for i in range(1,n+1):\n",
    "    print(i + (i-1) + (i-2))\n",
    "    "
   ]
  },
  {
   "cell_type": "code",
   "execution_count": 160,
   "id": "0e714a90-5f0a-4fa3-872f-1704b0f719e3",
   "metadata": {},
   "outputs": [
    {
     "name": "stdin",
     "output_type": "stream",
     "text": [
      " 22\n"
     ]
    },
    {
     "name": "stdout",
     "output_type": "stream",
     "text": [
      "1 1 2 3 5 8 13 21 34 55 89 144 233 377 610 987 1597 2584 4181 6765 10946 17711 "
     ]
    }
   ],
   "source": [
    "# Последовательность Фибоначи\n",
    "n = int(input())\n",
    "arr = []\n",
    "for i in range(0,n):\n",
    "    if i < 2:\n",
    "        arr.append(1)\n",
    "    else:\n",
    "        arr.append(arr[i-1]+arr[i-2])\n",
    "for i in arr:\n",
    "    print(i,end=' ')"
   ]
  },
  {
   "cell_type": "code",
   "execution_count": 1,
   "id": "1fc4dd5a-2684-47c4-b151-270e4b713251",
   "metadata": {},
   "outputs": [
    {
     "name": "stdin",
     "output_type": "stream",
     "text": [
      " das\n",
      " das\n",
      " dsa\n",
      " dsa\n",
      " \n",
      " dsa\n",
      " стоп\n"
     ]
    },
    {
     "name": "stdout",
     "output_type": "stream",
     "text": [
      "6\n"
     ]
    }
   ],
   "source": [
    "arr = []\n",
    "s = input()\n",
    "arr.append(s)\n",
    "while s != 'стоп' and s != 'хватит' and s != 'достаточно':\n",
    "    s = input()\n",
    "    arr.append(s)\n",
    "print(len(arr)-1)"
   ]
  },
  {
   "cell_type": "code",
   "execution_count": 6,
   "id": "1fb17ba8-4688-4428-9425-ee04b28fd884",
   "metadata": {},
   "outputs": [],
   "source": [
    "arr = []\n",
    "s = int(input())\n",
    "arr.append(s)\n",
    "while s % 7 == 0:\n",
    "    s = int(input())\n",
    "    arr.append(s)\n",
    "for i in arr[:-1]:\n",
    "    print(i)"
   ]
  },
  {
   "cell_type": "code",
   "execution_count": null,
   "id": "7d17cc2d-33c3-4ab6-b155-90b007d6cf20",
   "metadata": {},
   "outputs": [],
   "source": [
    "arr = []\n",
    "s = int(input())\n",
    "arr.append(s)\n",
    "while s >= 0:\n",
    "    s = int(input())\n",
    "    arr.append(s)\n",
    "k = 0\n",
    "for i in arr[:-1]:\n",
    "    k += i\n",
    "print(k)"
   ]
  },
  {
   "cell_type": "code",
   "execution_count": 12,
   "id": "8f7a00da-e856-464a-b69c-05507649d011",
   "metadata": {},
   "outputs": [
    {
     "name": "stdin",
     "output_type": "stream",
     "text": [
      " 1\n",
      " 1\n",
      " 21\n"
     ]
    },
    {
     "name": "stdout",
     "output_type": "stream",
     "text": [
      "2\n"
     ]
    }
   ],
   "source": [
    "arr = []\n",
    "s = int(input())\n",
    "arr.append(s)\n",
    "while 0 < s <= 5:\n",
    "    s = int(input())\n",
    "    arr.append(s)\n",
    "k = 0\n",
    "for i in arr[:-1]:\n",
    "    if i == 5:\n",
    "        k += 1\n",
    "print(k)"
   ]
  },
  {
   "cell_type": "code",
   "execution_count": 13,
   "id": "d5a754af-f842-402a-93d1-e863fb3ff9ce",
   "metadata": {},
   "outputs": [
    {
     "name": "stdin",
     "output_type": "stream",
     "text": [
      " 2111\n"
     ]
    },
    {
     "name": "stdout",
     "output_type": "stream",
     "text": [
      "86\n"
     ]
    }
   ],
   "source": [
    "n = int(input())\n",
    "s = 0\n",
    "while n > 0:\n",
    "    if n >= 25:\n",
    "        s += int(n/25)\n",
    "        n -= 25*int(n/25)\n",
    "    elif 10 <= n < 25:\n",
    "        s += int(n/10)\n",
    "        n -= 10*int(n/10)\n",
    "    elif 5 <= n < 10:\n",
    "        s += int(n/5)\n",
    "        n -= 5*int(n/5)\n",
    "    elif n < 5:\n",
    "        s += int(n)\n",
    "        n -= 1*int(n/1)\n",
    "print(s)"
   ]
  },
  {
   "cell_type": "code",
   "execution_count": null,
   "id": "62ee6322-7f53-4f73-8758-b3a9c90d7d7e",
   "metadata": {},
   "outputs": [
    {
     "name": "stdin",
     "output_type": "stream",
     "text": [
      " 454545\n"
     ]
    },
    {
     "name": "stdout",
     "output_type": "stream",
     "text": [
      "545454"
     ]
    }
   ],
   "source": [
    "num = int(input())\n",
    "tot = []\n",
    "while num != 0:\n",
    "    last_digit = num % 10\n",
    "    tot.append(last_digit)\n",
    "    num = num // 10\n",
    "print(total)"
   ]
  },
  {
   "cell_type": "code",
   "execution_count": 17,
   "id": "ff2bfd3f-63aa-412c-a177-1d7106ab055d",
   "metadata": {},
   "outputs": [
    {
     "name": "stdin",
     "output_type": "stream",
     "text": [
      " 455455454\n"
     ]
    },
    {
     "name": "stdout",
     "output_type": "stream",
     "text": [
      "5\n",
      "4\n"
     ]
    }
   ],
   "source": [
    "num = int(input())\n",
    "tot = []\n",
    "while num != 0:\n",
    "    last_digit = num % 10\n",
    "    tot.append(last_digit)\n",
    "    num = num // 10\n",
    "print('Максимальная цифра равна',max(tot))\n",
    "print('Минимальная цифра равна',min(tot))"
   ]
  },
  {
   "cell_type": "code",
   "execution_count": 31,
   "id": "79a1153b-adc7-4320-b475-eab4089e4e4f",
   "metadata": {},
   "outputs": [
    {
     "name": "stdin",
     "output_type": "stream",
     "text": [
      " 5678\n"
     ]
    },
    {
     "name": "stdout",
     "output_type": "stream",
     "text": [
      "26\n",
      "4\n",
      "1680\n",
      "6.5\n",
      "5\n",
      "13\n"
     ]
    }
   ],
   "source": [
    "def mup(list):\n",
    "    k = 1\n",
    "    for i in list:\n",
    "        k *= i\n",
    "    return(k)\n",
    "\n",
    "num = int(input())\n",
    "tot = []\n",
    "while num != 0:\n",
    "    last_digit = num % 10\n",
    "    tot.append(last_digit)\n",
    "    num = num // 10\n",
    "print(sum(tot))\n",
    "print(len(tot))\n",
    "print(mup(tot))\n",
    "print(sum(tot)/len(tot))\n",
    "print(tot[-1])\n",
    "print(tot[0] + tot[-1])   "
   ]
  },
  {
   "cell_type": "code",
   "execution_count": null,
   "id": "f8394e9c-6fbf-4106-9c3e-a996dadf4f5b",
   "metadata": {},
   "outputs": [
    {
     "name": "stdin",
     "output_type": "stream",
     "text": [
      " 59\n"
     ]
    },
    {
     "name": "stdout",
     "output_type": "stream",
     "text": [
      "9\n"
     ]
    }
   ],
   "source": [
    "num = int(input())\n",
    "tot = []\n",
    "while num != 0:\n",
    "    last_digit = num % 10\n",
    "    tot.append(last_digit)\n",
    "    num = num // 10\n",
    "print(tot[-2])"
   ]
  },
  {
   "cell_type": "code",
   "execution_count": 47,
   "id": "8514f06a-21b0-4e2c-8abe-e68bb3f63429",
   "metadata": {},
   "outputs": [
    {
     "name": "stdin",
     "output_type": "stream",
     "text": [
      " 112\n"
     ]
    },
    {
     "name": "stdout",
     "output_type": "stream",
     "text": [
      "NO\n"
     ]
    }
   ],
   "source": [
    "def mup(list):\n",
    "    iss = True\n",
    "    for i in range(len(list)-1):\n",
    "        if list[i] == list[i+1]:\n",
    "            iss = True\n",
    "        else:\n",
    "            iss = False\n",
    "            break\n",
    "    if iss is True:\n",
    "        return('YES')\n",
    "    else:\n",
    "        return('NO')\n",
    "\n",
    "num = int(input())\n",
    "tot = []\n",
    "while num != 0:\n",
    "    last_digit = num % 10\n",
    "    tot.append(last_digit)\n",
    "    num = num // 10\n",
    "print(mup(tot))\n"
   ]
  },
  {
   "cell_type": "code",
   "execution_count": null,
   "id": "d1ed7e9e-3d07-4f56-8f4c-e39acca4a185",
   "metadata": {},
   "outputs": [],
   "source": [
    "def mup(list):\n",
    "    iss = True\n",
    "    for i in range(len(list)-1):\n",
    "        if list[i] <= list[i+1]:\n",
    "            iss = True\n",
    "        else:\n",
    "            iss = False\n",
    "            break\n",
    "    if iss is True:\n",
    "        return('YES')\n",
    "    else:\n",
    "        return('NO')\n",
    "\n",
    "num = int(input())\n",
    "tot = []\n",
    "while num != 0:\n",
    "    last_digit = num % 10\n",
    "    tot.append(last_digit)\n",
    "    num = num // 10\n",
    "print(mup(tot))\n"
   ]
  },
  {
   "cell_type": "code",
   "execution_count": 48,
   "id": "9de8558b-ce4a-4e34-884d-ef95f2903c4c",
   "metadata": {},
   "outputs": [
    {
     "name": "stdout",
     "output_type": "stream",
     "text": [
      "0*1*2*3*4*5*6*7*"
     ]
    }
   ],
   "source": [
    "for i in range(10):\n",
    "    print(i, end='*')\n",
    "    if i > 6:\n",
    "        break"
   ]
  },
  {
   "cell_type": "code",
   "execution_count": 49,
   "id": "10a42bfc-9350-45c1-881e-3f516b9b72f9",
   "metadata": {},
   "outputs": [
    {
     "name": "stdout",
     "output_type": "stream",
     "text": [
      "100*80*60*"
     ]
    }
   ],
   "source": [
    "i = 100\n",
    "while i > 0:\n",
    "    if i == 40:\n",
    "        break\n",
    "    print(i, end='*')\n",
    "    i -= 20"
   ]
  },
  {
   "cell_type": "code",
   "execution_count": 50,
   "id": "311a9588-9fff-42f5-9be9-fbf7c740bb10",
   "metadata": {},
   "outputs": [
    {
     "name": "stdout",
     "output_type": "stream",
     "text": [
      "9*8*7*6*5*4*3*1*0*"
     ]
    }
   ],
   "source": [
    "n = 10\n",
    "while n > 0:\n",
    "    n -= 1\n",
    "    if n == 2:\n",
    "        continue\n",
    "    print(n, end='*')"
   ]
  },
  {
   "cell_type": "code",
   "execution_count": 51,
   "id": "e96d3227-523b-4e9d-ad71-23844524d543",
   "metadata": {},
   "outputs": [
    {
     "name": "stdout",
     "output_type": "stream",
     "text": [
      "25\n"
     ]
    }
   ],
   "source": [
    "result = 0\n",
    "for i in range(10):\n",
    "    if i % 2 == 0:\n",
    "        continue\n",
    "    result += i\n",
    "print(result)"
   ]
  },
  {
   "cell_type": "code",
   "execution_count": 52,
   "id": "22b4a277-5b21-4622-bae8-34feb29b0263",
   "metadata": {},
   "outputs": [
    {
     "name": "stdout",
     "output_type": "stream",
     "text": [
      "105\n"
     ]
    }
   ],
   "source": [
    "mult = 1\n",
    "for i in range(1, 11):\n",
    "   if i % 2 == 0:\n",
    "      continue\n",
    "   if i % 9 == 0:\n",
    "      break\n",
    "   mult *= i\n",
    "print(mult)"
   ]
  },
  {
   "cell_type": "code",
   "execution_count": 57,
   "id": "54cdba04-2b15-4bb1-ab89-b5ea1a6fae6d",
   "metadata": {},
   "outputs": [
    {
     "name": "stdin",
     "output_type": "stream",
     "text": [
      " 17\n"
     ]
    },
    {
     "name": "stdout",
     "output_type": "stream",
     "text": [
      "17\n"
     ]
    }
   ],
   "source": [
    "n = int(input())\n",
    "for i in range(2,n+1):\n",
    "    if n % i != 0:\n",
    "        continue\n",
    "    else:\n",
    "        print(i)\n",
    "        break"
   ]
  },
  {
   "cell_type": "code",
   "execution_count": 59,
   "id": "2dfd6c9b-acb2-4fee-9027-b6d31eb39b3d",
   "metadata": {},
   "outputs": [
    {
     "name": "stdin",
     "output_type": "stream",
     "text": [
      " 10\n"
     ]
    },
    {
     "name": "stdout",
     "output_type": "stream",
     "text": [
      "1\n",
      "2\n",
      "3\n",
      "4\n",
      "10\n"
     ]
    }
   ],
   "source": [
    "n = int(input())\n",
    "for i in range(1, n+1):\n",
    "    if 5 <= i <= 9 or 17 <= i <= 37 or 78 <= i <= 87:\n",
    "        continue\n",
    "    else:\n",
    "        print(i)"
   ]
  },
  {
   "cell_type": "code",
   "execution_count": 63,
   "id": "fcf2e07d-5673-4451-a525-812b05f9d9d0",
   "metadata": {},
   "outputs": [
    {
     "name": "stdout",
     "output_type": "stream",
     "text": [
      "2\n",
      "4\n",
      "6\n",
      "8\n",
      "10\n",
      "Цикл завершен.\n"
     ]
    }
   ],
   "source": [
    "n = 0\n",
    "while n < 10:\n",
    "    n += 2\n",
    "    if n == 7:\n",
    "        break\n",
    "    print(n)\n",
    "else:\n",
    "    print('Цикл завершен.')"
   ]
  },
  {
   "cell_type": "code",
   "execution_count": null,
   "id": "93be0208-4011-4049-87dd-975940ceb800",
   "metadata": {},
   "outputs": [
    {
     "name": "stdin",
     "output_type": "stream",
     "text": [
      " 1934234249\n"
     ]
    }
   ],
   "source": [
    "num = int(input())\n",
    "flag = True\n",
    "\n",
    "for i in range(2, num):\n",
    "    if num % i == 0:\n",
    "        flag = False\n",
    "if num > 1 and flag == True:\n",
    "    print('Число простое')\n",
    "else:\n",
    "    print('Число составное')"
   ]
  },
  {
   "cell_type": "code",
   "execution_count": 66,
   "id": "e0b8cc2f-b0e1-4410-bcbc-79595743393d",
   "metadata": {},
   "outputs": [
    {
     "name": "stdin",
     "output_type": "stream",
     "text": [
      " 1934234247\n"
     ]
    },
    {
     "name": "stdout",
     "output_type": "stream",
     "text": [
      "Число составное\n"
     ]
    }
   ],
   "source": [
    "num = int(input())\n",
    "flag = True\n",
    "\n",
    "for i in range(2, int(num ** 0.5) + 1):\n",
    "    if num % i == 0:\n",
    "        flag = False\n",
    "if num > 1 and flag == True:\n",
    "    print('Число простое')\n",
    "else:\n",
    "    print('Число составное')"
   ]
  },
  {
   "cell_type": "markdown",
   "id": "fcfbc41f-cddc-48a6-b56f-a30aec8e4fb6",
   "metadata": {},
   "source": [
    "# Проверка простоты числа"
   ]
  },
  {
   "cell_type": "code",
   "execution_count": 67,
   "id": "61cb2d94-f8a0-41d9-b3aa-bf34debe834c",
   "metadata": {},
   "outputs": [
    {
     "name": "stdin",
     "output_type": "stream",
     "text": [
      " 1934234249\n"
     ]
    },
    {
     "name": "stdout",
     "output_type": "stream",
     "text": [
      "Число простое\n"
     ]
    }
   ],
   "source": [
    "num = int(input())\n",
    "flag = True\n",
    "\n",
    "for i in range(2, int(num ** 0.5) + 1):\n",
    "    if num % i == 0:\n",
    "        flag = False\n",
    "        break\n",
    "if num > 1 and flag == True:\n",
    "    print('Число простое')\n",
    "else:\n",
    "    print('Число составное')"
   ]
  }
 ],
 "metadata": {
  "kernelspec": {
   "display_name": "Python 3 (ipykernel)",
   "language": "python",
   "name": "python3"
  },
  "language_info": {
   "codemirror_mode": {
    "name": "ipython",
    "version": 3
   },
   "file_extension": ".py",
   "mimetype": "text/x-python",
   "name": "python",
   "nbconvert_exporter": "python",
   "pygments_lexer": "ipython3",
   "version": "3.10.8"
  }
 },
 "nbformat": 4,
 "nbformat_minor": 5
}
